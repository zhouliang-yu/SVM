{
 "cells": [
  {
   "cell_type": "code",
   "execution_count": 2,
   "metadata": {},
   "outputs": [],
   "source": [
    "import re\n",
    "import numpy as np\n",
    "from sklearn import datasets\n",
    "from sklearn.multiclass import OutputCodeClassifier\n",
    "from sklearn.svm import LinearSVC\n",
    "import matplotlib.pyplot as plt\n",
    "from sklearn import svm, datasets\n",
    " "
   ]
  },
  {
   "cell_type": "code",
   "execution_count": 3,
   "metadata": {},
   "outputs": [],
   "source": [
    "## read data\n",
    "f = open(\"train.txt\", 'r')\n",
    "rows = list(re.split(' ', row) for row in re.split('\\n', f.read())[:-1])\n",
    "names, Y_train = np.unique(list(row[-1] for row in rows), return_inverse= True)\n",
    "X_train = np.empty((0, 4), float)\n",
    "\n",
    "f.close()\n",
    "for row in rows:\n",
    "    X_train = np.append(X_train, np.array([np.array(row[:-1]).astype(float)]), axis = 0)\n",
    "f = open(\"test.txt\", 'r')\n",
    "f.close()  \n",
    "f = open(\"test.txt\", 'r')\n"
   ]
  },
  {
   "cell_type": "code",
   "execution_count": 4,
   "metadata": {},
   "outputs": [
    {
     "data": {
      "text/plain": [
       "120"
      ]
     },
     "execution_count": 4,
     "metadata": {},
     "output_type": "execute_result"
    }
   ],
   "source": [
    "len(X_train)"
   ]
  },
  {
   "cell_type": "code",
   "execution_count": 5,
   "metadata": {},
   "outputs": [],
   "source": [
    "clf = svm.SVC(C=1e5, kernel = 'linear')\n",
    "clf.fit(X_train, Y_train) #training \n",
    "train_score = clf.score(X_train, Y_train)\n",
    "\n",
    "num_error = 0\n",
    "\n",
    "predict_train = clf.predict(X_train)\n",
    "for i in range(len(Y_train)):\n",
    "    if (predict_train[i] != Y_train[i]):\n",
    "        num_error += 1\n"
   ]
  },
  {
   "cell_type": "code",
   "execution_count": 55,
   "metadata": {},
   "outputs": [
    {
     "data": {
      "text/plain": [
       "array([ 13,  31,  34,  50,  52,  57,  63,  78,  97,  99, 103, 108])"
      ]
     },
     "execution_count": 55,
     "metadata": {},
     "output_type": "execute_result"
    }
   ],
   "source": []
  },
  {
   "cell_type": "code",
   "execution_count": 1,
   "metadata": {},
   "outputs": [],
   "source": []
  },
  {
   "cell_type": "code",
   "execution_count": null,
   "metadata": {},
   "outputs": [],
   "source": []
  }
 ],
 "metadata": {
  "interpreter": {
   "hash": "cc5f70855ac006f3de45a3cc3b9e7d8d53845e50458809cb162b0174266dec97"
  },
  "kernelspec": {
   "display_name": "Python 3.8.8 ('base')",
   "language": "python",
   "name": "python3"
  },
  "language_info": {
   "codemirror_mode": {
    "name": "ipython",
    "version": 3
   },
   "file_extension": ".py",
   "mimetype": "text/x-python",
   "name": "python",
   "nbconvert_exporter": "python",
   "pygments_lexer": "ipython3",
   "version": "3.8.8"
  },
  "orig_nbformat": 4
 },
 "nbformat": 4,
 "nbformat_minor": 2
}
